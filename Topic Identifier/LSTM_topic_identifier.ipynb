{
  "nbformat": 4,
  "nbformat_minor": 0,
  "metadata": {
    "colab": {
      "name": "LSTM topic identifier.ipynb",
      "provenance": [],
      "collapsed_sections": []
    },
    "kernelspec": {
      "name": "python3",
      "display_name": "Python 3"
    }
  },
  "cells": [
    {
      "cell_type": "code",
      "metadata": {
        "id": "UpjJPB8HEXdE"
      },
      "source": [
        "import sys, os, re, csv, codecs, numpy as np, pandas as pd\n",
        "import keras\n",
        "import tensorflow as tf\n",
        "\n",
        "from keras.preprocessing.text import Tokenizer\n",
        "from keras.preprocessing.sequence import pad_sequences\n",
        "from keras.layers import Dense, Input, LSTM, Embedding, Dropout, Activation,Conv1D,Flatten\n",
        "from keras.layers import Bidirectional, GlobalMaxPool1D\n",
        "from keras.models import Model\n",
        "from keras import initializers, regularizers, constraints, optimizers, layers\n",
        "from keras.optimizers import Adam\n",
        "from sklearn.model_selection import train_test_split"
      ],
      "execution_count": 139,
      "outputs": []
    },
    {
      "cell_type": "code",
      "metadata": {
        "id": "tzOVP8vEEgXV"
      },
      "source": [
        "train = pd.read_csv('/content/drive/My Drive/Module 3/Project/database/topic_identification_data.csv')"
      ],
      "execution_count": 55,
      "outputs": []
    },
    {
      "cell_type": "code",
      "metadata": {
        "id": "EKkm0f3iEkL8",
        "outputId": "49e3b333-7d8d-4dab-97e0-2a98be2d2102",
        "colab": {
          "base_uri": "https://localhost:8080/",
          "height": 195
        }
      },
      "source": [
        "train.head()"
      ],
      "execution_count": 83,
      "outputs": [
        {
          "output_type": "execute_result",
          "data": {
            "text/html": [
              "<div>\n",
              "<style scoped>\n",
              "    .dataframe tbody tr th:only-of-type {\n",
              "        vertical-align: middle;\n",
              "    }\n",
              "\n",
              "    .dataframe tbody tr th {\n",
              "        vertical-align: top;\n",
              "    }\n",
              "\n",
              "    .dataframe thead th {\n",
              "        text-align: right;\n",
              "    }\n",
              "</style>\n",
              "<table border=\"1\" class=\"dataframe\">\n",
              "  <thead>\n",
              "    <tr style=\"text-align: right;\">\n",
              "      <th></th>\n",
              "      <th>comment_text</th>\n",
              "      <th>obscenity</th>\n",
              "      <th>violence</th>\n",
              "      <th>verbal_abuse</th>\n",
              "      <th>identity_hate</th>\n",
              "      <th>hate</th>\n",
              "      <th>offense</th>\n",
              "      <th>neither</th>\n",
              "    </tr>\n",
              "  </thead>\n",
              "  <tbody>\n",
              "    <tr>\n",
              "      <th>0</th>\n",
              "      <td>Explanation\\nWhy the edits made under my usern...</td>\n",
              "      <td>0</td>\n",
              "      <td>0</td>\n",
              "      <td>0</td>\n",
              "      <td>0</td>\n",
              "      <td>0</td>\n",
              "      <td>0</td>\n",
              "      <td>1</td>\n",
              "    </tr>\n",
              "    <tr>\n",
              "      <th>1</th>\n",
              "      <td>D'aww! He matches this background colour I'm s...</td>\n",
              "      <td>0</td>\n",
              "      <td>0</td>\n",
              "      <td>0</td>\n",
              "      <td>0</td>\n",
              "      <td>0</td>\n",
              "      <td>0</td>\n",
              "      <td>1</td>\n",
              "    </tr>\n",
              "    <tr>\n",
              "      <th>2</th>\n",
              "      <td>Hey man, I'm really not trying to edit war. It...</td>\n",
              "      <td>0</td>\n",
              "      <td>0</td>\n",
              "      <td>0</td>\n",
              "      <td>0</td>\n",
              "      <td>0</td>\n",
              "      <td>0</td>\n",
              "      <td>1</td>\n",
              "    </tr>\n",
              "    <tr>\n",
              "      <th>3</th>\n",
              "      <td>\"\\nMore\\nI can't make any real suggestions on ...</td>\n",
              "      <td>0</td>\n",
              "      <td>0</td>\n",
              "      <td>0</td>\n",
              "      <td>0</td>\n",
              "      <td>0</td>\n",
              "      <td>0</td>\n",
              "      <td>1</td>\n",
              "    </tr>\n",
              "    <tr>\n",
              "      <th>4</th>\n",
              "      <td>You, sir, are my hero. Any chance you remember...</td>\n",
              "      <td>0</td>\n",
              "      <td>0</td>\n",
              "      <td>0</td>\n",
              "      <td>0</td>\n",
              "      <td>0</td>\n",
              "      <td>0</td>\n",
              "      <td>1</td>\n",
              "    </tr>\n",
              "  </tbody>\n",
              "</table>\n",
              "</div>"
            ],
            "text/plain": [
              "                                        comment_text  ...  neither\n",
              "0  Explanation\\nWhy the edits made under my usern...  ...        1\n",
              "1  D'aww! He matches this background colour I'm s...  ...        1\n",
              "2  Hey man, I'm really not trying to edit war. It...  ...        1\n",
              "3  \"\\nMore\\nI can't make any real suggestions on ...  ...        1\n",
              "4  You, sir, are my hero. Any chance you remember...  ...        1\n",
              "\n",
              "[5 rows x 8 columns]"
            ]
          },
          "metadata": {
            "tags": []
          },
          "execution_count": 83
        }
      ]
    },
    {
      "cell_type": "code",
      "metadata": {
        "id": "-T31haRCEsxh"
      },
      "source": [
        "#preprocessing \n",
        "train['comment_text'].fillna('fillna')\n",
        "x_train=train['comment_text'].str.lower()\n",
        "y_train=train[[ \"obscenity\", \"violence\", \"verbal_abuse\", \"identity_hate\",\"hate\",\"offense\",\"neither\"]].values"
      ],
      "execution_count": 57,
      "outputs": []
    },
    {
      "cell_type": "code",
      "metadata": {
        "id": "X_5QUXc1E1YB"
      },
      "source": [
        "#embedding layer \n",
        "embed_size=100\n",
        "max_features=20000\n",
        "max_len=100"
      ],
      "execution_count": 36,
      "outputs": []
    },
    {
      "cell_type": "code",
      "metadata": {
        "id": "pULlK1-3E3pI"
      },
      "source": [
        "#process the traiing set\n",
        "tokenizer= Tokenizer(num_words=max_features,lower= True)\n",
        "tokenizer.fit_on_texts(list(x_train))\n",
        "tokenized_train=tokenizer.texts_to_sequences(x_train)\n",
        "train_x=pad_sequences(tokenized_train,maxlen=max_len)"
      ],
      "execution_count": 37,
      "outputs": []
    },
    {
      "cell_type": "code",
      "metadata": {
        "id": "3auZPdC_frYE"
      },
      "source": [
        "batch_size=128\n",
        "epochs = 2"
      ],
      "execution_count": 38,
      "outputs": []
    },
    {
      "cell_type": "code",
      "metadata": {
        "id": "Tc5Osb0QCHcz"
      },
      "source": [
        "import matplotlib.pyplot as plt\n",
        "plt.style.use('ggplot')\n",
        "\n",
        "def plot_history(history):\n",
        "    acc = history.history['accuracy']\n",
        "    val_acc = history.history['val_accuracy']\n",
        "    loss = history.history['loss']\n",
        "    val_loss = history.history['val_loss']\n",
        "    x = range(1, len(acc) + 1)\n",
        "\n",
        "    plt.figure(figsize=(12, 5))\n",
        "    plt.subplot(1, 2, 1)\n",
        "    plt.plot(x, acc, 'b', label='Training acc')\n",
        "    plt.plot(x, val_acc, 'r', label='Validation acc')\n",
        "    plt.title('Training and validation accuracy')\n",
        "    plt.legend()\n",
        "    plt.subplot(1, 2, 2)\n",
        "    plt.plot(x, loss, 'b', label='Training loss')\n",
        "    plt.plot(x, val_loss, 'r', label='Validation loss')\n",
        "    plt.title('Training and validation loss')\n",
        "    plt.legend()"
      ],
      "execution_count": 41,
      "outputs": []
    },
    {
      "cell_type": "code",
      "metadata": {
        "id": "h9mQgZB7Z2dy"
      },
      "source": [
        "# BEST MODEL with 88 % of accuracy \n",
        "inp = Input(shape=(max_len,))\n",
        "x = Embedding(max_features, embed_size)(inp)\n",
        "x = LSTM(50, return_sequences=True)(x)\n",
        "x = GlobalMaxPool1D()(x)\n",
        "x = Dropout(0.1)(x)\n",
        "x = Dense(50, activation=\"relu\")(x)\n",
        "x = Dropout(0.1)(x)\n",
        "x = Dense(7, activation=\"sigmoid\")(x)\n",
        "model = Model(inputs=inp, outputs=x)\n",
        "model.compile(loss='categorical_crossentropy',\n",
        "                  optimizer='adam',\n",
        "                  metrics=['accuracy'])"
      ],
      "execution_count": 85,
      "outputs": []
    },
    {
      "cell_type": "code",
      "metadata": {
        "id": "iSmYbW2gaDUH",
        "outputId": "3862e72d-1144-4fb0-f94a-475eab6292bb",
        "colab": {
          "base_uri": "https://localhost:8080/"
        }
      },
      "source": [
        "history = model.fit(train_x,y_train,epochs=epochs,batch_size=batch_size,validation_split=0.1)"
      ],
      "execution_count": 86,
      "outputs": [
        {
          "output_type": "stream",
          "text": [
            "Epoch 1/2\n",
            "1297/1297 [==============================] - 173s 134ms/step - loss: 0.4475 - accuracy: 0.9177 - val_loss: 1.4217 - val_accuracy: 0.3796\n",
            "Epoch 2/2\n",
            "1297/1297 [==============================] - 177s 137ms/step - loss: 0.2371 - accuracy: 0.9520 - val_loss: 0.4868 - val_accuracy: 0.8802\n"
          ],
          "name": "stdout"
        }
      ]
    },
    {
      "cell_type": "code",
      "metadata": {
        "id": "D0tvdxKlhcCl",
        "outputId": "69f0fc82-daf0-4fd6-b85c-b7e5da495eb9",
        "colab": {
          "base_uri": "https://localhost:8080/",
          "height": 337
        }
      },
      "source": [
        "plot_history(history)"
      ],
      "execution_count": 87,
      "outputs": [
        {
          "output_type": "display_data",
          "data": {
            "image/png": "[encoded data removed]",
            "text/plain": [
              "<Figure size 864x360 with 2 Axes>"
            ]
          },
          "metadata": {
            "tags": []
          }
        }
      ]
    },
    {
      "cell_type": "code",
      "metadata": {
        "id": "cAjokpJzSohE"
      },
      "source": [
        "# save the model \n",
        "model.save('/content/drive/My Drive/Module 3/Project/database/topic_identifier_model.h5')"
      ],
      "execution_count": 137,
      "outputs": []
    },
    {
      "cell_type": "code",
      "metadata": {
        "id": "xjBzD0TjQimS"
      },
      "source": [
        "#test with a sentence\n",
        "x_test = \"you gay boy\"\n",
        "\n",
        "#preprocess the sentence\n",
        "def preprocess_test(x_test):\n",
        "  \"\"\" this function allows to preprocess the test sentence\n",
        "\n",
        "      params : \n",
        "      x_test (string) : the test message\n",
        "\n",
        "      return :\n",
        "      test_x (vector) : the processed test message \n",
        "  \"\"\"\n",
        "  x_test = x_test.lower()\n",
        "  x_test = [x_test]\n",
        "  tokenized_test=tokenizer.texts_to_sequences(x_test)\n",
        "  test_x=pad_sequences(tokenized_test,maxlen=max_len)\n",
        "\n",
        "  return test_x"
      ],
      "execution_count": 131,
      "outputs": []
    },
    {
      "cell_type": "code",
      "metadata": {
        "id": "tgJVK_MJS1_B"
      },
      "source": [
        "# load the model \n",
        "topic_identifier_model =  tf.keras.models.load_model('/content/drive/My Drive/Module 3/Project/database/topic_identifier_model.h5')"
      ],
      "execution_count": 140,
      "outputs": []
    },
    {
      "cell_type": "code",
      "metadata": {
        "id": "PkfxyuDpRPxO"
      },
      "source": [
        "#predict the topic \n",
        "y_pred=topic_identifier_model.predict(preprocess_test(x_test))"
      ],
      "execution_count": 141,
      "outputs": []
    },
    {
      "cell_type": "code",
      "metadata": {
        "id": "Qk4O5MLGuAUV",
        "outputId": "4e2bfb2d-7708-4907-8ded-25ac384ae08f",
        "colab": {
          "base_uri": "https://localhost:8080/"
        }
      },
      "source": [
        "y_pred"
      ],
      "execution_count": 142,
      "outputs": [
        {
          "output_type": "execute_result",
          "data": {
            "text/plain": [
              "array([[0.20238304, 0.04775229, 0.2887668 , 0.07659307, 0.05820435,\n",
              "        0.07535237, 0.24894503]], dtype=float32)"
            ]
          },
          "metadata": {
            "tags": []
          },
          "execution_count": 142
        }
      ]
    },
    {
      "cell_type": "code",
      "metadata": {
        "id": "lWNOF6-QoZHP"
      },
      "source": [
        "label_dict = {0: \"obscenity\", 1: \"violence\", 2: \"verbal abuse\", 3: \"identity hate crime\", 4: \"hate crime\", 5: \"offense\", 6:\"neither\"}"
      ],
      "execution_count": 134,
      "outputs": []
    },
    {
      "cell_type": "code",
      "metadata": {
        "id": "uKM2ctXRnxcA",
        "outputId": "735602d3-6fdb-4c58-bd3f-85734dcc3f1a",
        "colab": {
          "base_uri": "https://localhost:8080/"
        }
      },
      "source": [
        "#get the prediction \n",
        "if y_pred.argmax(1)[0] != 6 : \n",
        "  # if the tweet contains sensitive topics \n",
        "  print(\"your tweet may contain sentences that present \" + label_dict[y_pred.argmax(1)[0]]+ \" with  \"+str(y_pred[0][y_pred.argmax(1)[0]]*100) +\" of confidence\")"
      ],
      "execution_count": 135,
      "outputs": [
        {
          "output_type": "stream",
          "text": [
            "your tweet may contain sentences that present verbal abuse with  28.87668013572693 of confidence\n"
          ],
          "name": "stdout"
        }
      ]
    }
  ]
}