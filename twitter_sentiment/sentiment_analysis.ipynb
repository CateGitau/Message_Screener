{
 "cells": [
  {
   "cell_type": "code",
   "execution_count": 1,
   "metadata": {},
   "outputs": [
    {
     "name": "stdout",
     "output_type": "stream",
     "text": [
      "         sentiment                                               text\n",
      "549848           0  damn... i got a final in the AM and i have to ...\n",
      "1193216          4             Eight demos set for the week, so far. \n",
      "292840           0           Doing homework right now... Super bored \n",
      "1222387          4  B Back when this storm passes over... shouldn'...\n",
      "1163382          4  Feedly: Better Support for 1024 Displays: Narr...\n"
     ]
    }
   ],
   "source": [
    "# Load data\n",
    "import pandas as pd\n",
    "\n",
    "col_names = ['sentiment','id','date','query_string','user','text']\n",
    "data_path = '/home/cate/Projects/sentiment140/training.1600000.processed.noemoticon.csv'\n",
    "\n",
    "tweet_data = pd.read_csv(data_path, header=None, names=col_names, encoding=\"ISO-8859-1\").sample(frac=1) # .sample(frac=1) shuffles the data\n",
    "tweet_data = tweet_data[['sentiment', 'text']] # Disregard other columns\n",
    "print(tweet_data.head())"
   ]
  },
  {
   "cell_type": "code",
   "execution_count": 2,
   "metadata": {},
   "outputs": [],
   "source": [
    "import re\n",
    "\n",
    "allowed_chars = ' AaBbCcDdEeFfGgHhIiJjKkLlMmNnOoPpQqRrSsTtUuVvWwXxYyZz0123456789~`!@#$%^&*()-=_+[]{}|;:\",./<>?'\n",
    "punct = '!?,.@#'\n",
    "maxlen = 280\n",
    "\n",
    "def preprocess(text):\n",
    "    return ''.join([' ' + char + ' ' if char in punct else char for char in [char for char in re.sub(r'http\\S+', 'http', text, flags=re.MULTILINE) if char in allowed_chars]])[:maxlen]"
   ]
  },
  {
   "cell_type": "code",
   "execution_count": 3,
   "metadata": {},
   "outputs": [],
   "source": [
    "tweet_data['text'] = tweet_data['text'].apply(preprocess)"
   ]
  },
  {
   "cell_type": "code",
   "execution_count": 4,
   "metadata": {},
   "outputs": [],
   "source": [
    "tweet_data['sentiment'] = '__label__' + tweet_data['sentiment'].astype(str)"
   ]
  },
  {
   "cell_type": "code",
   "execution_count": 5,
   "metadata": {},
   "outputs": [
    {
     "data": {
      "text/html": [
       "<div>\n",
       "<style scoped>\n",
       "    .dataframe tbody tr th:only-of-type {\n",
       "        vertical-align: middle;\n",
       "    }\n",
       "\n",
       "    .dataframe tbody tr th {\n",
       "        vertical-align: top;\n",
       "    }\n",
       "\n",
       "    .dataframe thead th {\n",
       "        text-align: right;\n",
       "    }\n",
       "</style>\n",
       "<table border=\"1\" class=\"dataframe\">\n",
       "  <thead>\n",
       "    <tr style=\"text-align: right;\">\n",
       "      <th></th>\n",
       "      <th>sentiment</th>\n",
       "      <th>text</th>\n",
       "    </tr>\n",
       "  </thead>\n",
       "  <tbody>\n",
       "    <tr>\n",
       "      <th>549848</th>\n",
       "      <td>__label__0</td>\n",
       "      <td>damn .  .  .  i got a final in the AM and i ha...</td>\n",
       "    </tr>\n",
       "    <tr>\n",
       "      <th>1193216</th>\n",
       "      <td>__label__4</td>\n",
       "      <td>Eight demos set for the week ,  so far .</td>\n",
       "    </tr>\n",
       "    <tr>\n",
       "      <th>292840</th>\n",
       "      <td>__label__0</td>\n",
       "      <td>Doing homework right now .  .  .  Super bored</td>\n",
       "    </tr>\n",
       "    <tr>\n",
       "      <th>1222387</th>\n",
       "      <td>__label__4</td>\n",
       "      <td>B Back when this storm passes over .  .  .  sh...</td>\n",
       "    </tr>\n",
       "    <tr>\n",
       "      <th>1163382</th>\n",
       "      <td>__label__4</td>\n",
       "      <td>Feedly: Better Support for 1024 Displays: Narr...</td>\n",
       "    </tr>\n",
       "  </tbody>\n",
       "</table>\n",
       "</div>"
      ],
      "text/plain": [
       "          sentiment                                               text\n",
       "549848   __label__0  damn .  .  .  i got a final in the AM and i ha...\n",
       "1193216  __label__4         Eight demos set for the week ,  so far .  \n",
       "292840   __label__0     Doing homework right now .  .  .  Super bored \n",
       "1222387  __label__4  B Back when this storm passes over .  .  .  sh...\n",
       "1163382  __label__4  Feedly: Better Support for 1024 Displays: Narr..."
      ]
     },
     "execution_count": 5,
     "metadata": {},
     "output_type": "execute_result"
    }
   ],
   "source": [
    "tweet_data.head()"
   ]
  },
  {
   "cell_type": "code",
   "execution_count": 6,
   "metadata": {},
   "outputs": [],
   "source": [
    "import os\n",
    "\n",
    "# Create directory for saving data if it does not already exist\n",
    "data_dir = '/home/cate/Projects/Twitter_sentiment_analysis_app/processed-data'\n",
    "if not os.path.isdir(data_dir):\n",
    "    os.mkdir(data_dir)\n",
    "\n",
    "# Save a percentage of the data (you could also only load a fraction of the data instead)\n",
    "amount = 0.05\n",
    "\n",
    "tweet_data.iloc[0:int(len(tweet_data)*0.8*amount)].to_csv(data_dir + '/train.csv', sep='\\t', index=False, header=False)\n",
    "tweet_data.iloc[int(len(tweet_data)*0.8*amount):int(len(tweet_data)*0.9*amount)].to_csv(data_dir + '/test.csv', sep='\\t', index=False, header=False)\n",
    "tweet_data.iloc[int(len(tweet_data)*0.9*amount):int(len(tweet_data)*1.0*amount)].to_csv(data_dir + '/dev.csv', sep='\\t', index=False, header=False)"
   ]
  },
  {
   "cell_type": "code",
   "execution_count": 8,
   "metadata": {},
   "outputs": [
    {
     "name": "stdout",
     "output_type": "stream",
     "text": [
      "2020-01-16 20:34:27,760 Reading data from /home/cate/Projects/Twitter_sentiment_analysis_app/processed-data\n",
      "2020-01-16 20:34:27,762 Train: /home/cate/Projects/Twitter_sentiment_analysis_app/processed-data/train.txt\n",
      "2020-01-16 20:34:27,764 Dev: /home/cate/Projects/Twitter_sentiment_analysis_app/processed-data/dev.txt\n",
      "2020-01-16 20:34:27,765 Test: /home/cate/Projects/Twitter_sentiment_analysis_app/processed-data/test.txt\n"
     ]
    },
    {
     "ename": "AssertionError",
     "evalue": "",
     "output_type": "error",
     "traceback": [
      "\u001b[0;31m---------------------------------------------------------------------------\u001b[0m",
      "\u001b[0;31mAssertionError\u001b[0m                            Traceback (most recent call last)",
      "\u001b[0;32m<ipython-input-8-90fb9d8c6ff8>\u001b[0m in \u001b[0;36m<module>\u001b[0;34m\u001b[0m\n\u001b[1;32m      9\u001b[0m                                       \u001b[0mtest_file\u001b[0m\u001b[0;34m=\u001b[0m\u001b[0;34m'test.txt'\u001b[0m\u001b[0;34m,\u001b[0m\u001b[0;34m\u001b[0m\u001b[0;34m\u001b[0m\u001b[0m\n\u001b[1;32m     10\u001b[0m                                       \u001b[0mdev_file\u001b[0m\u001b[0;34m=\u001b[0m\u001b[0;34m'dev.txt'\u001b[0m\u001b[0;34m,\u001b[0m\u001b[0;34m\u001b[0m\u001b[0;34m\u001b[0m\u001b[0m\n\u001b[0;32m---> 11\u001b[0;31m                                       train_file='train.txt')\n\u001b[0m",
      "\u001b[0;32m~/anaconda3/lib/python3.7/site-packages/flair/datasets.py\u001b[0m in \u001b[0;36m__init__\u001b[0;34m(self, data_folder, train_file, test_file, dev_file, tokenizer, max_tokens_per_doc, max_chars_per_doc, in_memory)\u001b[0m\n\u001b[1;32m    271\u001b[0m             \u001b[0mmax_tokens_per_doc\u001b[0m\u001b[0;34m=\u001b[0m\u001b[0mmax_tokens_per_doc\u001b[0m\u001b[0;34m,\u001b[0m\u001b[0;34m\u001b[0m\u001b[0;34m\u001b[0m\u001b[0m\n\u001b[1;32m    272\u001b[0m             \u001b[0mmax_chars_per_doc\u001b[0m\u001b[0;34m=\u001b[0m\u001b[0mmax_chars_per_doc\u001b[0m\u001b[0;34m,\u001b[0m\u001b[0;34m\u001b[0m\u001b[0;34m\u001b[0m\u001b[0m\n\u001b[0;32m--> 273\u001b[0;31m             \u001b[0min_memory\u001b[0m\u001b[0;34m=\u001b[0m\u001b[0min_memory\u001b[0m\u001b[0;34m,\u001b[0m\u001b[0;34m\u001b[0m\u001b[0;34m\u001b[0m\u001b[0m\n\u001b[0m\u001b[1;32m    274\u001b[0m         )\n\u001b[1;32m    275\u001b[0m \u001b[0;34m\u001b[0m\u001b[0m\n",
      "\u001b[0;32m~/anaconda3/lib/python3.7/site-packages/flair/datasets.py\u001b[0m in \u001b[0;36m__init__\u001b[0;34m(self, path_to_file, max_tokens_per_doc, max_chars_per_doc, tokenizer, in_memory)\u001b[0m\n\u001b[1;32m   1089\u001b[0m             \u001b[0mpath_to_file\u001b[0m\u001b[0;34m:\u001b[0m \u001b[0mPath\u001b[0m \u001b[0;34m=\u001b[0m \u001b[0mPath\u001b[0m\u001b[0;34m(\u001b[0m\u001b[0mpath_to_file\u001b[0m\u001b[0;34m)\u001b[0m\u001b[0;34m\u001b[0m\u001b[0;34m\u001b[0m\u001b[0m\n\u001b[1;32m   1090\u001b[0m \u001b[0;34m\u001b[0m\u001b[0m\n\u001b[0;32m-> 1091\u001b[0;31m         \u001b[0;32massert\u001b[0m \u001b[0mpath_to_file\u001b[0m\u001b[0;34m.\u001b[0m\u001b[0mexists\u001b[0m\u001b[0;34m(\u001b[0m\u001b[0;34m)\u001b[0m\u001b[0;34m\u001b[0m\u001b[0;34m\u001b[0m\u001b[0m\n\u001b[0m\u001b[1;32m   1092\u001b[0m \u001b[0;34m\u001b[0m\u001b[0m\n\u001b[1;32m   1093\u001b[0m         \u001b[0mself\u001b[0m\u001b[0;34m.\u001b[0m\u001b[0mlabel_prefix\u001b[0m \u001b[0;34m=\u001b[0m \u001b[0;34m\"__label__\"\u001b[0m\u001b[0;34m\u001b[0m\u001b[0;34m\u001b[0m\u001b[0m\n",
      "\u001b[0;31mAssertionError\u001b[0m: "
     ]
    }
   ],
   "source": [
    "from flair.data import Corpus\n",
    "from flair.datasets import ClassificationCorpus\n",
    "\n",
    "# this is the folder in which train, test and dev files reside\n",
    "data_folder = data_dir\n",
    "\n",
    "# load corpus containing training, test and dev data\n",
    "corpus: Corpus = ClassificationCorpus(data_folder,\n",
    "                                      test_file='test.txt',\n",
    "                                      dev_file='dev.txt',\n",
    "                                      train_file='train.txt')"
   ]
  },
  {
   "cell_type": "code",
   "execution_count": 10,
   "metadata": {},
   "outputs": [],
   "source": [
    "#from flair.data_fetcher import NLPTaskDataFetcher\n",
    "#from pathlib import Path\n",
    "\n",
    "#corpus = NLPTaskDataFetcher.load_classification_corpus(Path(data_dir), test_file='test.csv', dev_file='dev.csv', train_file='train.csv')"
   ]
  },
  {
   "cell_type": "code",
   "execution_count": 9,
   "metadata": {},
   "outputs": [
    {
     "name": "stdout",
     "output_type": "stream",
     "text": [
      "2020-01-16 01:06:10,234 Computing label dictionary. Progress:\n"
     ]
    },
    {
     "name": "stderr",
     "output_type": "stream",
     "text": [
      "100%|██████████| 160000/160000 [00:00<00:00, 352960.82it/s]"
     ]
    },
    {
     "name": "stdout",
     "output_type": "stream",
     "text": [
      "2020-01-16 01:06:10,694 [b'0', b'4']\n"
     ]
    },
    {
     "name": "stderr",
     "output_type": "stream",
     "text": [
      "\n"
     ]
    }
   ],
   "source": [
    "label_dict = corpus.make_label_dictionary()"
   ]
  },
  {
   "cell_type": "code",
   "execution_count": 10,
   "metadata": {},
   "outputs": [],
   "source": [
    "from flair.embeddings import WordEmbeddings, FlairEmbeddings\n",
    "\n",
    "word_embeddings = [WordEmbeddings('glove'),\n",
    "#                    FlairEmbeddings('news-forward'),\n",
    "#                    FlairEmbeddings('news-backward')\n",
    "                  ]"
   ]
  },
  {
   "cell_type": "code",
   "execution_count": 11,
   "metadata": {},
   "outputs": [],
   "source": [
    "from flair.embeddings import DocumentRNNEmbeddings\n",
    "\n",
    "document_embeddings = DocumentRNNEmbeddings(word_embeddings, hidden_size=512, reproject_words=True, reproject_words_dimension=256)"
   ]
  },
  {
   "cell_type": "code",
   "execution_count": 12,
   "metadata": {},
   "outputs": [],
   "source": [
    "from flair.models import TextClassifier\n",
    "\n",
    "classifier = TextClassifier(document_embeddings, label_dictionary=label_dict)\n"
   ]
  },
  {
   "cell_type": "code",
   "execution_count": 13,
   "metadata": {},
   "outputs": [],
   "source": [
    "from flair.trainers import ModelTrainer\n",
    "\n",
    "trainer = ModelTrainer(classifier, corpus)"
   ]
  },
  {
   "cell_type": "code",
   "execution_count": null,
   "metadata": {},
   "outputs": [
    {
     "name": "stdout",
     "output_type": "stream",
     "text": [
      "2020-01-16 01:06:31,398 ----------------------------------------------------------------------------------------------------\n",
      "2020-01-16 01:06:31,400 Model: \"TextClassifier(\n",
      "  (document_embeddings): DocumentRNNEmbeddings(\n",
      "    (embeddings): StackedEmbeddings(\n",
      "      (list_embedding_0): WordEmbeddings('glove')\n",
      "    )\n",
      "    (word_reprojection_map): Linear(in_features=100, out_features=256, bias=True)\n",
      "    (rnn): GRU(256, 512, batch_first=True)\n",
      "    (dropout): Dropout(p=0.5, inplace=False)\n",
      "  )\n",
      "  (decoder): Linear(in_features=512, out_features=2, bias=True)\n",
      "  (loss_function): CrossEntropyLoss()\n",
      ")\"\n",
      "2020-01-16 01:06:31,402 ----------------------------------------------------------------------------------------------------\n",
      "2020-01-16 01:06:31,403 Corpus: \"Corpus: 160000 train + 20000 dev + 20000 test sentences\"\n",
      "2020-01-16 01:06:31,404 ----------------------------------------------------------------------------------------------------\n",
      "2020-01-16 01:06:31,405 Parameters:\n",
      "2020-01-16 01:06:31,407  - learning_rate: \"0.1\"\n",
      "2020-01-16 01:06:31,408  - mini_batch_size: \"32\"\n",
      "2020-01-16 01:06:31,409  - patience: \"8\"\n",
      "2020-01-16 01:06:31,410  - anneal_factor: \"0.5\"\n",
      "2020-01-16 01:06:31,412  - max_epochs: \"200\"\n",
      "2020-01-16 01:06:31,413  - shuffle: \"True\"\n",
      "2020-01-16 01:06:31,414  - train_with_dev: \"False\"\n",
      "2020-01-16 01:06:31,414  - batch_growth_annealing: \"False\"\n",
      "2020-01-16 01:06:31,415 ----------------------------------------------------------------------------------------------------\n",
      "2020-01-16 01:06:31,417 Model training base path: \"model-saves\"\n",
      "2020-01-16 01:06:31,418 ----------------------------------------------------------------------------------------------------\n",
      "2020-01-16 01:06:31,419 Device: cpu\n",
      "2020-01-16 01:06:31,421 ----------------------------------------------------------------------------------------------------\n",
      "2020-01-16 01:06:31,422 Embeddings storage mode: cpu\n",
      "2020-01-16 01:06:31,536 ----------------------------------------------------------------------------------------------------\n",
      "2020-01-16 01:06:32,552 epoch 1 - iter 0/5000 - loss 0.71362078 - samples/sec: 18321.08\n",
      "2020-01-16 01:08:30,217 epoch 1 - iter 500/5000 - loss 0.68333982 - samples/sec: 136.04\n",
      "2020-01-16 01:10:19,723 epoch 1 - iter 1000/5000 - loss 0.66731768 - samples/sec: 146.17\n",
      "2020-01-16 01:12:17,580 epoch 1 - iter 1500/5000 - loss 0.65748025 - samples/sec: 135.82\n",
      "2020-01-16 01:14:16,571 epoch 1 - iter 2000/5000 - loss 0.65220427 - samples/sec: 134.52\n",
      "2020-01-16 01:16:18,049 epoch 1 - iter 2500/5000 - loss 0.64861239 - samples/sec: 131.77\n"
     ]
    }
   ],
   "source": [
    "trainer.train('model-saves',\n",
    "              learning_rate=0.1,\n",
    "              mini_batch_size=32,\n",
    "              anneal_factor=0.5,\n",
    "              patience=8,\n",
    "              max_epochs=200)"
   ]
  },
  {
   "cell_type": "code",
   "execution_count": null,
   "metadata": {},
   "outputs": [
    {
     "name": "stdout",
     "output_type": "stream",
     "text": [
      "2020-01-16 00:38:16,540 loading file model-saves/final-model.pt\n"
     ]
    }
   ],
   "source": [
    "from flair.data import Sentence\n",
    "\n",
    "classifier = TextClassifier.load('model-saves/final-model.pt')\n",
    "\n",
    "pos_sentence = Sentence(preprocess('I love Python!'))\n",
    "neg_sentence = Sentence(preprocess('Python is the worst!'))\n",
    "\n",
    "classifier.predict(pos_sentence)\n",
    "classifier.predict(neg_sentence)\n",
    "\n",
    "print(pos_sentence.labels, neg_sentence.labels)"
   ]
  },
  {
   "cell_type": "code",
   "execution_count": null,
   "metadata": {},
   "outputs": [],
   "source": [
    "ls"
   ]
  },
  {
   "cell_type": "code",
   "execution_count": null,
   "metadata": {},
   "outputs": [],
   "source": []
  }
 ],
 "metadata": {
  "kernelspec": {
   "display_name": "Python 3",
   "language": "python",
   "name": "python3"
  },
  "language_info": {
   "codemirror_mode": {
    "name": "ipython",
    "version": 3
   },
   "file_extension": ".py",
   "mimetype": "text/x-python",
   "name": "python",
   "nbconvert_exporter": "python",
   "pygments_lexer": "ipython3",
   "version": "3.7.3"
  }
 },
 "nbformat": 4,
 "nbformat_minor": 2
}
